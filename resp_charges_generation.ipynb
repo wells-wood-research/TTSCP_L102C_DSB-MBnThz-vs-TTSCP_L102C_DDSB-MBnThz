{
 "cells": [
  {
   "cell_type": "code",
   "execution_count": null,
   "metadata": {},
   "outputs": [],
   "source": [
    "import psi4\n",
    "import psiresp\n",
    "from rdkit import Chem\n",
    "from rdkit.Chem import AllChem\n",
    "import os"
   ]
  },
  {
   "cell_type": "code",
   "execution_count": null,
   "metadata": {},
   "outputs": [],
   "source": [
    "smiles_string = \"O=C(NC)[C@@H](NC(C)=O)CSC1C(N(CCC2=C(C)[N+](CC3=CC=CC=C3)=CS2)C(C1)=O)=O\""
   ]
  },
  {
   "cell_type": "code",
   "execution_count": null,
   "metadata": {},
   "outputs": [],
   "source": [
    "mol = Chem.MolFromSmiles(smiles_string)\n",
    "mol = Chem.AddHs(mol)\n",
    "mol"
   ]
  },
  {
   "cell_type": "code",
   "execution_count": null,
   "metadata": {},
   "outputs": [],
   "source": [
    "for i, atom in enumerate(mol.GetAtoms()):\n",
    "    atom.SetProp(\"molAtomMapNumber\", str(atom.GetIdx()))\n",
    "\n",
    "mol"
   ]
  },
  {
   "cell_type": "code",
   "execution_count": null,
   "metadata": {},
   "outputs": [],
   "source": [
    "capping_list = [2, 3, 33, 34, 35, 36, 6, 7, 8, 39, 40, 41]\n",
    "backbone_list = [4, 1, 0, 5, 38]\n",
    "sidechain_list = [9, 10, 11, 12, 13, 14, 15, 16, 17, 18, 19, 20, 21, 22, 23, 24, 25, 26, 27, 28, 29, 30, 31, 32, 42, 43, 44,\n",
    " 45, 46, 47, 48, 49, 50, 51, 52, 53, 54, 55, 56, 57, 58, 59, 60, 61, 37]"
   ]
  },
  {
   "cell_type": "code",
   "execution_count": null,
   "metadata": {},
   "outputs": [],
   "source": [
    "n_confs = 1\n",
    "\n",
    "confs = AllChem.EmbedMultipleConfs(mol, numConfs=n_confs, randomSeed=-1)\n",
    "AllChem.AlignMolConformers(mol)\n",
    "AllChem.MMFFOptimizeMoleculeConfs(mol, maxIters=1000)"
   ]
  },
  {
   "cell_type": "code",
   "execution_count": null,
   "metadata": {},
   "outputs": [],
   "source": [
    "psirespmol = psiresp.Molecule.from_rdkit(mol)\n",
    "psirespmol"
   ]
  },
  {
   "cell_type": "code",
   "execution_count": null,
   "metadata": {},
   "outputs": [],
   "source": [
    "psirespmol.optimize_geometry=True\n",
    "\n",
    "constraints = psiresp.ChargeConstraintOptions(symmetric_atoms_are_equivalent=True)\n",
    "constraints.add_charge_sum_constraint_for_molecule(psirespmol, charge=0, indices=capping_list)\n",
    "constraints.add_charge_sum_constraint_for_molecule(psirespmol, charge=+1, indices=backbone_list+capping_list+sidechain_list)"
   ]
  },
  {
   "cell_type": "code",
   "execution_count": null,
   "metadata": {},
   "outputs": [],
   "source": [
    "geometry_options = psiresp.QMGeometryOptimizationOptions(method=\"hf\", basis=\"6-31g*\")\n",
    "\n",
    "esp_options = psiresp.QMEnergyOptions(method=\"hf\", basis=\"6-31g*\")"
   ]
  },
  {
   "cell_type": "code",
   "execution_count": null,
   "metadata": {},
   "outputs": [],
   "source": [
    "job_resp = psiresp.Job(molecules=[psirespmol],\n",
    "            charge_constraints=constraints,\n",
    "            qm_optimization_options=geometry_options,\n",
    "            qm_esp_options=esp_options,\n",
    "            working_directory=\"resp_charges_generation\")"
   ]
  },
  {
   "cell_type": "code",
   "execution_count": null,
   "metadata": {},
   "outputs": [],
   "source": [
    "job_resp.generate_conformers()\n",
    "job_resp.generate_orientations()\n",
    "job_resp.run(update_molecules=True)"
   ]
  },
  {
   "cell_type": "code",
   "execution_count": null,
   "metadata": {},
   "outputs": [],
   "source": [
    "os.chdir(\"resp_charges_generation/optimization/\")\n",
    "os.system(\"bash run_optimization.sh\")\n",
    "os.chdir(\"../../\")\n",
    "job_resp.run()"
   ]
  },
  {
   "cell_type": "code",
   "execution_count": null,
   "metadata": {},
   "outputs": [],
   "source": [
    "os.chdir(\"resp_charges_generation/single_point/\")\n",
    "os.system(\"bash run_single_point.sh\")\n",
    "os.chdir(\"../../\")\n",
    "job_resp.run()"
   ]
  },
  {
   "cell_type": "code",
   "execution_count": null,
   "metadata": {},
   "outputs": [],
   "source": [
    "molecule = job_resp.molecules[0]\n",
    "molecule.charges"
   ]
  }
 ],
 "metadata": {
  "kernelspec": {
   "display_name": "qm_resp_3.8",
   "language": "python",
   "name": "python3"
  },
  "language_info": {
   "codemirror_mode": {
    "name": "ipython",
    "version": 3
   },
   "file_extension": ".py",
   "mimetype": "text/x-python",
   "name": "python",
   "nbconvert_exporter": "python",
   "pygments_lexer": "ipython3",
   "version": "3.8.17"
  }
 },
 "nbformat": 4,
 "nbformat_minor": 2
}
